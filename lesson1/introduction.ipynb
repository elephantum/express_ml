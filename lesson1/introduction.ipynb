{
 "cells": [
  {
   "cell_type": "markdown",
   "metadata": {
    "ExecuteTime": {
     "end_time": "2017-06-24T14:03:47.802813Z",
     "start_time": "2017-06-24T17:03:47.785729+03:00"
    }
   },
   "source": [
    "<img src=\"imgs/introduction.jpg\" width=800>"
   ]
  },
  {
   "cell_type": "markdown",
   "metadata": {},
   "source": [
    "#### Machine learning is the subfield of computer science that gives computers the ability to learn without being explicitly programmed. \n",
    "(Arthur Samuel, 1959)"
   ]
  },
  {
   "cell_type": "markdown",
   "metadata": {
    "collapsed": true
   },
   "source": [
    "<img src=\"imgs/terminology.jpg\" width=600>"
   ]
  },
  {
   "cell_type": "code",
   "execution_count": null,
   "metadata": {
    "collapsed": true
   },
   "outputs": [],
   "source": []
  },
  {
   "cell_type": "code",
   "execution_count": null,
   "metadata": {
    "collapsed": true
   },
   "outputs": [],
   "source": []
  },
  {
   "cell_type": "code",
   "execution_count": null,
   "metadata": {
    "collapsed": true
   },
   "outputs": [],
   "source": []
  },
  {
   "cell_type": "markdown",
   "metadata": {},
   "source": [
    "# <center> Задачи машинного обучения?\n",
    "\n",
    "<center>Supervised / Unsupervised / Reinforcement"
   ]
  },
  {
   "cell_type": "markdown",
   "metadata": {},
   "source": [
    "##  Supervised:"
   ]
  },
  {
   "cell_type": "markdown",
   "metadata": {},
   "source": [
    "### Classification: (бинарная, мультиклассовая, мультилейбл)\n",
    "\n",
    "<img src=\"imgs/classification.png\">"
   ]
  },
  {
   "cell_type": "markdown",
   "metadata": {},
   "source": [
    "Примеры:\n",
    "- Распознавание изображений\n",
    "- Кредитный скоринг\n",
    "- Клик по баннеру\n",
    "- Релевантность поискового результата\n",
    "- Определение пола пользователя\n",
    "- Setiment Analysis"
   ]
  },
  {
   "cell_type": "markdown",
   "metadata": {},
   "source": [
    "### Regression\n",
    "<img src=\"imgs/regression.png\">"
   ]
  },
  {
   "cell_type": "markdown",
   "metadata": {},
   "source": [
    "Примеры: \n",
    "- Предсказание персонализированного рейтинга фильма\n",
    "- Определение стоимости квартиры\n",
    "- Оптимизация движения лифта (Ordinal Regression)\n",
    "- Управление беспилотным автомобилем\n",
    "- Временные ряды"
   ]
  },
  {
   "cell_type": "code",
   "execution_count": null,
   "metadata": {
    "collapsed": true
   },
   "outputs": [],
   "source": []
  },
  {
   "cell_type": "markdown",
   "metadata": {
    "ExecuteTime": {
     "end_time": "2017-06-24T18:00:20.625422Z",
     "start_time": "2017-06-24T21:00:20.599625+03:00"
    }
   },
   "source": [
    "## Unsupervised:"
   ]
  },
  {
   "cell_type": "markdown",
   "metadata": {},
   "source": [
    "### Clustering\n",
    "\n",
    "<img src=\"imgs/clustering.png\">"
   ]
  },
  {
   "cell_type": "markdown",
   "metadata": {},
   "source": [
    "Примеры:\n",
    "- Кластеризация аудитории сайта\n",
    "- Кластеризация товаров в магазине\n",
    "- Остановки на маршруте Яндекс.Транспорт\n",
    "- Дом/Работа/Дача"
   ]
  },
  {
   "cell_type": "markdown",
   "metadata": {},
   "source": [
    "### Dimention reduction\n",
    "\n",
    "<img src=\"imgs/dimention_reduction.png\" width=600>"
   ]
  },
  {
   "cell_type": "markdown",
   "metadata": {},
   "source": [
    "Примеры:\n",
    "- MNIST\n",
    "- <a href=\"https://rare-technologies.com/word2vec-tutorial/\">word2vec</a>\n",
    "- Уменьшение количества признаков без существенной потери в количестве информации\n"
   ]
  },
  {
   "cell_type": "markdown",
   "metadata": {
    "ExecuteTime": {
     "end_time": "2017-06-24T18:01:25.224258Z",
     "start_time": "2017-06-24T21:01:25.195468+03:00"
    }
   },
   "source": [
    "<table><tr><td>\n",
    "<img src=\"imgs/inference.png\" width=400></td><td>-></td><td><img src=\"imgs/mnist_vis.png\" width=400>\n",
    "</table>"
   ]
  },
  {
   "cell_type": "code",
   "execution_count": null,
   "metadata": {
    "collapsed": true
   },
   "outputs": [],
   "source": []
  },
  {
   "cell_type": "markdown",
   "metadata": {},
   "source": [
    "### Feature extraction\n",
    "\n",
    "<img src=\"imgs/lena.png\">"
   ]
  },
  {
   "cell_type": "code",
   "execution_count": null,
   "metadata": {
    "collapsed": true
   },
   "outputs": [],
   "source": []
  },
  {
   "cell_type": "markdown",
   "metadata": {
    "ExecuteTime": {
     "end_time": "2017-06-24T17:24:11.395069Z",
     "start_time": "2017-06-24T20:24:11.371410+03:00"
    }
   },
   "source": [
    "## Reinforcement learning\n",
    "<img src=\"imgs/rl.jpg\">\n",
    "- Рассказ основателя DeepMind: https://youtu.be/rbsqaJwpu6A?t=534\n",
    "- Игры на Dendy: https://youtu.be/xOCurBYI_gY?t=462\n",
    "- Простые игры: https://gym.openai.com\n",
    "- Крутые игры: https://universe.openai.com\n",
    "- Doom played by AI: https://www.youtube.com/watch?v=oo0TraGu6QY"
   ]
  },
  {
   "cell_type": "code",
   "execution_count": null,
   "metadata": {
    "collapsed": true
   },
   "outputs": [],
   "source": []
  },
  {
   "cell_type": "markdown",
   "metadata": {},
   "source": [
    "# В каких задачах круты нейронные сети?"
   ]
  },
  {
   "cell_type": "markdown",
   "metadata": {},
   "source": [
    "1943 — У. Маккалок и У. Питтс формализуют понятие нейронной сети в фундаментальной статье о логическом исчислении идей и нервной активности. В начале своего сотрудничества с Питтсом Н. Винер предлагает ему вакуумные лампы в качестве идеального на тот момент средства для реализации эквивалентов нейронных сетей\n",
    "\n",
    "1998 - Yann LeCun предлагает архитектуру сверточной нейронной сети. \n",
    "\n",
    "2012 - сверточная сеть AlexNet побеждает в конкурсе <a href=\"www.image-net.org\">ImageNet</a> (60954656 params)"
   ]
  },
  {
   "cell_type": "markdown",
   "metadata": {},
   "source": [
    "<img src=\"imgs/nn.png\">"
   ]
  },
  {
   "cell_type": "markdown",
   "metadata": {},
   "source": [
    "Про зоопарк архитектур: https://habrahabr.ru/company/wunderfund/blog/313696/"
   ]
  },
  {
   "cell_type": "markdown",
   "metadata": {
    "ExecuteTime": {
     "end_time": "2017-06-24T18:40:06.711033Z",
     "start_time": "2017-06-24T21:40:06.647415+03:00"
    }
   },
   "source": [
    "Мотивирующее видео из действующих проектов: https://www.youtube.com/watch?v=dcZvhP-IqY4"
   ]
  },
  {
   "cell_type": "markdown",
   "metadata": {},
   "source": [
    "<img src=\"imgs/CNN-Figure-01.png\">"
   ]
  },
  {
   "cell_type": "code",
   "execution_count": null,
   "metadata": {
    "collapsed": true
   },
   "outputs": [],
   "source": []
  },
  {
   "cell_type": "markdown",
   "metadata": {},
   "source": [
    "# Что такое Big Data?"
   ]
  },
  {
   "cell_type": "markdown",
   "metadata": {
    "ExecuteTime": {
     "end_time": "2017-06-24T19:16:21.591031Z",
     "start_time": "2017-06-24T22:16:21.564343+03:00"
    }
   },
   "source": [
    "Лекция Ильи Трофимова: \n",
    "https://piazza-resources.s3.amazonaws.com/ism5bdp44he46n/isn0zbb8rgl368/introduction.pdf"
   ]
  },
  {
   "cell_type": "code",
   "execution_count": null,
   "metadata": {
    "collapsed": true
   },
   "outputs": [],
   "source": []
  },
  {
   "cell_type": "markdown",
   "metadata": {
    "ExecuteTime": {
     "end_time": "2017-06-24T18:56:21.892337Z",
     "start_time": "2017-06-24T21:56:21.875577+03:00"
    }
   },
   "source": [
    "# Соревнования!\n",
    "\n",
    "Все соревнования здесь: http://mltrainings.ru\n",
    "\n",
    "Самая популярная площадка: https://kaggle.com"
   ]
  },
  {
   "cell_type": "code",
   "execution_count": null,
   "metadata": {
    "collapsed": true
   },
   "outputs": [],
   "source": []
  },
  {
   "cell_type": "markdown",
   "metadata": {},
   "source": [
    "# Комьюнити:\n",
    "http://ods.ai - главный Slack всех датасаентистов в России. Обсуждение соревнований, теории, практики, встречи, курсы, поиск команды и вакансии \n",
    "\n",
    "Наша группа: https://www.facebook.com/groups/expressml/ - туда я буду выкладывать ВСЁ!\n",
    "\n",
    "И наш чатик в Телеграме: https://t.me/joinchat/AAAAAAuro9V-hE8HsdBtag - тут можно задавать вопросы и вообще"
   ]
  },
  {
   "cell_type": "code",
   "execution_count": null,
   "metadata": {
    "collapsed": true
   },
   "outputs": [],
   "source": []
  },
  {
   "cell_type": "code",
   "execution_count": null,
   "metadata": {
    "collapsed": true
   },
   "outputs": [],
   "source": []
  },
  {
   "cell_type": "markdown",
   "metadata": {},
   "source": [
    "# Хорошие курсы:"
   ]
  },
  {
   "cell_type": "markdown",
   "metadata": {},
   "source": [
    "- Python: https://stepik.org/course/Программирование-на-Python-67\n",
    "- Статистика: https://stepik.org/course/Основы-статистики-76\n",
    "- ML от Воронцова на Курсере: https://www.coursera.org/learn/vvedenie-mashinnoe-obuchenie/home/welcome\n",
    "- \"Специализация\" от МФТИ: https://www.coursera.org/specializations/machine-learning-data-analysis (бесплатные леции, платные задания)\n",
    "- Andrew NG https://www.coursera.org/learn/machine-learning\n",
    "- Статейный курс от ODS: https://habrahabr.ru/company/ods/blog/322626/\n",
    "\n",
    "- Постоянно обновляемая подборка ресурсов по машинному обучению https://github.com/demidovakatya/vvedenie-mashinnoe-obuchenie\n"
   ]
  },
  {
   "cell_type": "code",
   "execution_count": null,
   "metadata": {
    "collapsed": true
   },
   "outputs": [],
   "source": []
  }
 ],
 "metadata": {
  "kernelspec": {
   "display_name": "Python 2",
   "language": "python",
   "name": "python2"
  },
  "language_info": {
   "codemirror_mode": {
    "name": "ipython",
    "version": 2
   },
   "file_extension": ".py",
   "mimetype": "text/x-python",
   "name": "python",
   "nbconvert_exporter": "python",
   "pygments_lexer": "ipython2",
   "version": "2.7.11"
  }
 },
 "nbformat": 4,
 "nbformat_minor": 2
}

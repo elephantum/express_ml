{
 "cells": [
  {
   "cell_type": "markdown",
   "metadata": {},
   "source": [
    "## Задание:"
   ]
  },
  {
   "cell_type": "markdown",
   "metadata": {},
   "source": [
    "... Кстати, если вы в какой-то момент застряли, переходите к следующей задаче. Разбор всех задач будет в конце.\n",
    "\n",
    "Можно и нужно звать семинариста.\n",
    "\n",
    "Если не помогает, гляньте соседний ноутбук: python_numpy_tutorial.ipynb\n",
    "\n",
    "Если совсем тяжело, посмотрите курс по Python (там же numpy и pandas) на Степике: https://stepik.org/course/Программирование-на-Python-67"
   ]
  },
  {
   "cell_type": "code",
   "execution_count": 1,
   "metadata": {
    "ExecuteTime": {
     "end_time": "2017-06-24T23:35:52.383922Z",
     "start_time": "2017-06-25T02:35:51.791738+03:00"
    }
   },
   "outputs": [
    {
     "name": "stdout",
     "output_type": "stream",
     "text": [
      "Populating the interactive namespace from numpy and matplotlib\n"
     ]
    }
   ],
   "source": [
    "# Первое задание: выполните эту ячейку :)\n",
    "# Она полезная - популяризирует numpy, matplotlib.pyplot\n",
    "%pylab inline    \n",
    "# рисование графиков в ноутбуке\n",
    "%matplotlib inline \n",
    "# чтобы писать np.array вместо array\n",
    "import numpy as np "
   ]
  },
  {
   "cell_type": "markdown",
   "metadata": {},
   "source": [
    "##### Что больше $\\pi^e$ или $e^\\pi$ ? \n",
    "\n",
    "Воспользуйтесь встроенными константами np.pi и np.e"
   ]
  },
  {
   "cell_type": "code",
   "execution_count": null,
   "metadata": {
    "collapsed": true
   },
   "outputs": [],
   "source": []
  },
  {
   "cell_type": "markdown",
   "metadata": {},
   "source": [
    "##### Фильтрация элементов в массиве\n",
    "\n",
    "Создайте массив из последовательности чисел от 1 до 10 (функция <a href=\"https://docs.scipy.org/doc/numpy/reference/generated/numpy.arange.html\">np.arange</a>)\n",
    "\n",
    "Выведите этот массив в обратном порядке. \n",
    "\n",
    "Выведите каждый второй элемент. \n",
    "\n",
    "Выведите элементы большие числа 3. (<a href=\"https://docs.scipy.org/doc/numpy/reference/arrays.indexing.html\">numpy indexing tutorial</a>)"
   ]
  },
  {
   "cell_type": "code",
   "execution_count": null,
   "metadata": {
    "collapsed": true
   },
   "outputs": [],
   "source": []
  },
  {
   "cell_type": "markdown",
   "metadata": {},
   "source": [
    "##### Операции с массивами\n",
    "\n",
    "Создайте 5 одномерных массивов: первый из единиц, второй из двоек и т.д.\n",
    "\n",
    "Объедините массивы с помощью функции <a href=\"https://docs.scipy.org/doc/numpy/reference/generated/numpy.vstack.html\">np.vstack</a> в матрицу A (на самом деле 2-мерный массив).\n",
    "\n",
    "Сделайте копию А с помощью <a href=\"https://docs.scipy.org/doc/numpy/reference/generated/numpy.copy.html\">np.copy</a> и назовите её B.\n",
    "\n",
    "Вычислите честное матричной произведение (метод функция <a href=\"https://docs.scipy.org/doc/numpy/reference/generated/numpy.dot.html\">np.dot</a>) между матрицей A и B транспонированной (метод <a href=\"https://docs.scipy.org/doc/numpy-1.9.1/reference/generated/numpy.ndarray.T.html\">.T</a>).\n",
    "\n",
    "Выведите ответ."
   ]
  },
  {
   "cell_type": "code",
   "execution_count": null,
   "metadata": {
    "collapsed": true
   },
   "outputs": [],
   "source": []
  },
  {
   "cell_type": "markdown",
   "metadata": {},
   "source": [
    "##### Max / min\n",
    "\n",
    "Найдите максимум и минимум матрицы A (методы <a href=\"https://docs.scipy.org/doc/numpy/reference/generated/numpy.ndarray.max.html\">.max</a> и <a href=\"https://docs.scipy.org/doc/numpy/reference/generated/numpy.ndarray.min.html\">.min</a> класса numpy.ndarray). Так же найдите максимумы в строках и столбцах (параметр axis)."
   ]
  },
  {
   "cell_type": "code",
   "execution_count": null,
   "metadata": {
    "collapsed": true
   },
   "outputs": [],
   "source": []
  },
  {
   "cell_type": "markdown",
   "metadata": {},
   "source": [
    "##### Индексирование*\n",
    "Напишите функцию, возвращающую максимальный элемент в векторе `x` среди элементов, перед которыми стоит нулевой. <br>\n",
    "Для `x = np.array([6, 2, 0, 3, 0, 0, 5, 7, 0])` ответом является `5`. Если нулевых элементов нет, функция должна возвращать None.\n",
    "\n",
    "Для решения можно использовать функцию <a href=\"https://docs.scipy.org/doc/numpy/reference/generated/numpy.where.html\">np.where</a>. Эта функция может быть использована для получиения индексов элементов в массиве, которые подчиняются логическому условию. Например:\n",
    "`np.where(np.array([1, 4, 7, 5, 2]) % 2 == 0)[0]` возвращает индексы четных элементов: `array([1, 4])`"
   ]
  },
  {
   "cell_type": "code",
   "execution_count": null,
   "metadata": {
    "collapsed": true
   },
   "outputs": [],
   "source": []
  },
  {
   "cell_type": "markdown",
   "metadata": {
    "collapsed": true
   },
   "source": [
    "##### Гистограмма значений\n",
    "Превратите матрицу A в 1D массив с помощью метода <a href=\"https://docs.scipy.org/doc/numpy/reference/generated/numpy.ndarray.flatten.html\">.flatten()</a> и выведите гистограмму значений результата с помощью функции <a href=\"https://docs.scipy.org/doc/numpy/reference/generated/numpy.histogram.html\"> hist()</a>. Она принимает на вход массив. Так же можно задать параметр `bins=100`"
   ]
  },
  {
   "cell_type": "code",
   "execution_count": null,
   "metadata": {
    "collapsed": true
   },
   "outputs": [],
   "source": []
  },
  {
   "cell_type": "markdown",
   "metadata": {},
   "source": [
    "##### Матожидание числа угадываний*\n",
    "\n",
    "За сколько попыток можно угать число от 1 до 100? Придумайте схему испытаний, проведите необходимое количество замеров. В ответе напишите матожидание, среднее отклонение и выведите гистограму полученных значений. "
   ]
  },
  {
   "cell_type": "code",
   "execution_count": null,
   "metadata": {
    "collapsed": true
   },
   "outputs": [],
   "source": []
  },
  {
   "cell_type": "markdown",
   "metadata": {},
   "source": [
    "<img src=\"http://imgs.xkcd.com/comics/psychic.png\">"
   ]
  }
 ],
 "metadata": {
  "kernelspec": {
   "display_name": "Python 2",
   "language": "python",
   "name": "python2"
  },
  "language_info": {
   "codemirror_mode": {
    "name": "ipython",
    "version": 2
   },
   "file_extension": ".py",
   "mimetype": "text/x-python",
   "name": "python",
   "nbconvert_exporter": "python",
   "pygments_lexer": "ipython2",
   "version": "2.7.13"
  }
 },
 "nbformat": 4,
 "nbformat_minor": 1
}
